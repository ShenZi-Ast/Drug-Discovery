{
  "nbformat": 4,
  "nbformat_minor": 0,
  "metadata": {
    "colab": {
      "provenance": [],
      "authorship_tag": "ABX9TyMnwEM7PdbZG/wpOm2GU+4J",
      "include_colab_link": true
    },
    "kernelspec": {
      "name": "python3",
      "display_name": "Python 3"
    },
    "language_info": {
      "name": "python"
    }
  },
  "cells": [
    {
      "cell_type": "markdown",
      "metadata": {
        "id": "view-in-github",
        "colab_type": "text"
      },
      "source": [
        "<a href=\"https://colab.research.google.com/github/ShenZi-Ast/Drug-Discovery/blob/main/pyscf_Hf_Calc.ipynb\" target=\"_parent\"><img src=\"https://colab.research.google.com/assets/colab-badge.svg\" alt=\"Open In Colab\"/></a>"
      ]
    },
    {
      "cell_type": "code",
      "execution_count": 5,
      "metadata": {
        "colab": {
          "base_uri": "https://localhost:8080/"
        },
        "id": "u6Zm4mrZqTyS",
        "outputId": "d1df81c7-933c-47b9-dfad-130ca7b9df3f"
      },
      "outputs": [
        {
          "output_type": "stream",
          "name": "stdout",
          "text": [
            "Collecting pyscf\n",
            "  Downloading pyscf-2.6.2-py3-none-manylinux_2_17_x86_64.manylinux2014_x86_64.whl.metadata (6.3 kB)\n",
            "Requirement already satisfied: numpy!=1.16,!=1.17,>=1.13 in /usr/local/lib/python3.10/dist-packages (from pyscf) (1.26.4)\n",
            "Requirement already satisfied: scipy!=1.5.0,!=1.5.1 in /usr/local/lib/python3.10/dist-packages (from pyscf) (1.13.1)\n",
            "Requirement already satisfied: h5py>=2.7 in /usr/local/lib/python3.10/dist-packages (from pyscf) (3.11.0)\n",
            "Requirement already satisfied: setuptools in /usr/local/lib/python3.10/dist-packages (from pyscf) (71.0.4)\n",
            "Downloading pyscf-2.6.2-py3-none-manylinux_2_17_x86_64.manylinux2014_x86_64.whl (48.6 MB)\n",
            "\u001b[2K   \u001b[90m━━━━━━━━━━━━━━━━━━━━━━━━━━━━━━━━━━━━━━━━\u001b[0m \u001b[32m48.6/48.6 MB\u001b[0m \u001b[31m18.3 MB/s\u001b[0m eta \u001b[36m0:00:00\u001b[0m\n",
            "\u001b[?25hInstalling collected packages: pyscf\n",
            "Successfully installed pyscf-2.6.2\n"
          ]
        }
      ],
      "source": [
        "pip install pyscf\n"
      ]
    },
    {
      "cell_type": "code",
      "source": [
        "from pyscf import gto, scf\n",
        "\n",
        "# Define the molecular structure of glycine\n",
        "mol = gto.M(\n",
        "    atom=\"\"\"\n",
        "    N       0.000000     0.000000     0.000000\n",
        "    C       1.091000     0.000000     0.000000\n",
        "    O       1.591000     0.000000     1.191000\n",
        "    O      -0.500000     0.000000    -1.191000\n",
        "    H       1.100000     0.900000     0.000000\n",
        "    H       1.100000    -0.900000     0.000000\n",
        "    H      -0.600000     0.900000     0.000000\n",
        "    H      -0.600000    -0.900000     0.000000\n",
        "    \"\"\",\n",
        "    basis='6-31G',  # Basis set; you can choose different sets\n",
        "    charge=0,          # Molecular charge\n",
        "    spin=1             # Total spin multiplicity (1 for doublet)\n",
        ")\n",
        "\n",
        "# Perform the Hartree-Fock calculation\n",
        "hf = scf.RHF(mol)\n",
        "hf.kernel()\n",
        "\n",
        "# Print the HF energy\n",
        "print(f\"Hartree-Fock Energy: {hf.e_tot} Hartree\")"
      ],
      "metadata": {
        "colab": {
          "base_uri": "https://localhost:8080/"
        },
        "id": "ejaBEYYHqZV3",
        "outputId": "a5da0f39-8f5f-4c8c-f1c9-0822c7562dd6"
      },
      "execution_count": 10,
      "outputs": [
        {
          "output_type": "stream",
          "name": "stdout",
          "text": [
            "converged SCF energy = -243.518092063394\n",
            "Hartree-Fock Energy: -243.51809206339433 Hartree\n"
          ]
        }
      ]
    },
    {
      "cell_type": "code",
      "source": [],
      "metadata": {
        "id": "phI5hj3Pqliz"
      },
      "execution_count": null,
      "outputs": []
    }
  ]
}